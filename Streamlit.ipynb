{
  "nbformat": 4,
  "nbformat_minor": 0,
  "metadata": {
    "colab": {
      "provenance": [],
      "authorship_tag": "ABX9TyPhW5HaA3cN7GB0nwci1ASQ"
    },
    "kernelspec": {
      "name": "python3",
      "display_name": "Python 3"
    },
    "language_info": {
      "name": "python"
    }
  },
  "cells": [
    {
      "cell_type": "code",
      "execution_count": null,
      "metadata": {
        "id": "s0FuaZ3ekUV5"
      },
      "outputs": [],
      "source": [
        "import streamlit as st\n",
        "import os\n",
        "from PIL import Image\n",
        "import random\n",
        "import numpy as np"
      ]
    },
    {
      "cell_type": "code",
      "source": [
        "def image_out(image):\n",
        "  return Image.open(image)"
      ],
      "metadata": {
        "id": "g5RN-RVVk0pT"
      },
      "execution_count": null,
      "outputs": []
    },
    {
      "cell_type": "code",
      "source": [],
      "metadata": {
        "id": "oZcgLkMSk6bF"
      },
      "execution_count": null,
      "outputs": []
    }
  ]
}