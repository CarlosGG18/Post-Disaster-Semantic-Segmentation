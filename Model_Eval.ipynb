{
  "cells": [
    {
      "cell_type": "markdown",
      "metadata": {
        "id": "view-in-github",
        "colab_type": "text"
      },
      "source": [
        "<a href=\"https://colab.research.google.com/github/CarlosGG18/Post-Disaster-Semenatic-Segmentation/blob/main/Model_Eval.ipynb\" target=\"_parent\"><img src=\"https://colab.research.google.com/assets/colab-badge.svg\" alt=\"Open In Colab\"/></a>"
      ]
    },
    {
      "cell_type": "code",
      "execution_count": null,
      "metadata": {
        "colab": {
          "background_save": true
        },
        "id": "6Mt76paJ0BAQ"
      },
      "outputs": [],
      "source": [
        "pip install segmentation-models"
      ]
    },
    {
      "cell_type": "code",
      "execution_count": null,
      "metadata": {
        "colab": {
          "background_save": true
        },
        "id": "tEXeH0t5jkzM"
      },
      "outputs": [],
      "source": [
        "import h5py\n",
        "import numpy as np \n",
        "import matplotlib.pyplot as plt \n",
        "import matplotlib.image as mpimg\n",
        "from keras.utils import normalize\n",
        "import os\n",
        "import cv2\n",
        "from PIL import Image\n",
        "import tensorflow as tf\n",
        "import keras\n",
        "from keras.optimizers import SGD, Adam\n",
        "import random\n",
        "import segmentation_models\n",
        "from keras.models import Sequential, Model\n",
        "from keras.layers import Dense, Dropout, Activation, Flatten,Reshape,Input\n",
        "from keras.layers import Conv2D, MaxPooling2D, UpSampling2D,concatenate\n",
        "from keras.layers.convolutional.conv2d_transpose import Conv2DTranspose\n",
        "import matplotlib"
      ]
    },
    {
      "cell_type": "code",
      "execution_count": null,
      "metadata": {
        "colab": {
          "background_save": true
        },
        "id": "P32umhSg0lre"
      },
      "outputs": [],
      "source": [
        "def evaluate_random_image(model, test_images, test_masks):\n",
        "    # choose a random test image\n",
        "    random_index = np.random.choice(len(test_images))\n",
        "    test_image = test_images[random_index]\n",
        "    \n",
        "    #predictions on the test image\n",
        "    test_image = np.expand_dims(test_image, axis=0)\n",
        "    predictions = model.predict(test_image)\n",
        "    \n",
        "    #predicted mask\n",
        "    class_id = predictions.argmax(axis=-1)\n",
        "\n",
        "    #ground truth \n",
        "    ground = test_masks[random_index]\n",
        "    ground = np.squeeze(ground)\n",
        "    # create a colormap for 10 classes\n",
        "    cmap = matplotlib.cm.get_cmap('tab10')\n",
        "    \n",
        "    # display the test image, predicted mask, ground truth\n",
        "    plt.figure(figsize=(15,5))\n",
        "    plt.subplot(1,2,1)\n",
        "    plt.imshow(test_image[0])\n",
        "    plt.title('Test Image')\n",
        "    plt.axis('off')\n",
        "\n",
        "    plt.subplot(1,2,2)\n",
        "    plt.imshow(class_id[0])\n",
        "    plt.title('Predicted Mask')\n",
        "    plt.axis('off')\n",
        "    print(class_id[0].shape)\n",
        "\n",
        "    plt.figure(figsize=(15,10))\n",
        "    plt.subplot(2,1,1)\n",
        "    plt.imshow(ground)\n",
        "    plt.title('Ground Truth')\n",
        "    plt.axis('off')\n",
        "    plt.show()\n",
        "    print(ground.shape)"
      ]
    },
    {
      "cell_type": "code",
      "execution_count": null,
      "metadata": {
        "colab": {
          "background_save": true
        },
        "id": "iOe9c4M43Zfz"
      },
      "outputs": [],
      "source": [
        "patch_size=256\n",
        "img_height = 3000\n",
        "img_width = 4000\n",
        "n_classes= 10\n",
        "train_grid_size = 256\n",
        "height = train_grid_size\n",
        "width = train_grid_size\n",
        "resize_dim = (2*train_grid_size, 2*train_grid_size)\n",
        "h_n = int(resize_dim[0]/height)\n",
        "w_n = int(resize_dim[0]/width)"
      ]
    },
    {
      "cell_type": "code",
      "execution_count": null,
      "metadata": {
        "colab": {
          "background_save": true
        },
        "id": "yulL2cy_1o5K"
      },
      "outputs": [],
      "source": [
        "wd = os.getcwd()\n",
        "wd"
      ]
    },
    {
      "cell_type": "code",
      "execution_count": null,
      "metadata": {
        "colab": {
          "background_save": true
        },
        "id": "xU47jQ6_2Imh"
      },
      "outputs": [],
      "source": [
        "training_img_path= wd + '/drive/MyDrive/Floodnet/train/train-org-img'"
      ]
    },
    {
      "cell_type": "code",
      "execution_count": null,
      "metadata": {
        "colab": {
          "background_save": true
        },
        "id": "eUidBoM24l6v"
      },
      "outputs": [],
      "source": [
        "images= os.listdir(training_img_path)"
      ]
    },
    {
      "cell_type": "code",
      "execution_count": null,
      "metadata": {
        "colab": {
          "background_save": true
        },
        "id": "GoV2R7Ne01Gy"
      },
      "outputs": [],
      "source": [
        "train_floodnet_images =[]\n",
        "for img_path in images:\n",
        "  img = cv2.imread(\"/\".join((training_img_path, img_path)),1)\n",
        "  img = img[0:img_height, 0:img_width,:]\n",
        "  img = cv2.resize(img, resize_dim)\n",
        "  i = 0\n",
        "  j = 0\n",
        "  y = 0\n",
        "\n",
        "  for i in range(h_n):\n",
        "        x=0\n",
        "        for j in range(w_n):\n",
        "            img_crop = img[y:(y+height), x:(x+width), :]\n",
        "            train_floodnet_images.append(img_crop)\n",
        "            x+=width\n",
        "        y+=height\n",
        "train_floodnet_images = np.array(train_floodnet_images)\n"
      ]
    },
    {
      "cell_type": "code",
      "execution_count": null,
      "metadata": {
        "colab": {
          "background_save": true
        },
        "id": "MOzYmJwr2GC6"
      },
      "outputs": [],
      "source": [
        "training_mask_path =os.getcwd() + '/drive/MyDrive/Floodnet/train/train-label-img'"
      ]
    },
    {
      "cell_type": "code",
      "execution_count": null,
      "metadata": {
        "colab": {
          "background_save": true
        },
        "id": "_MG6ET-q42H_"
      },
      "outputs": [],
      "source": [
        "train_masks= os.listdir(training_mask_path)"
      ]
    },
    {
      "cell_type": "code",
      "execution_count": null,
      "metadata": {
        "colab": {
          "background_save": true
        },
        "id": "4PMacyQT5D-c"
      },
      "outputs": [],
      "source": [
        "train_flooded_mask=[]\n",
        "for mask_path in train_masks:\n",
        "  mask = cv2.imread(\"/\".join((training_mask_path, mask_path)),0)\n",
        "  mask = mask[0:img_height, 0:img_width]\n",
        "  mask = cv2.resize(mask, resize_dim)\n",
        "  i = 0\n",
        "  j = 0\n",
        "  y = 0\n",
        "\n",
        "  for i in range(h_n):\n",
        "        x=0\n",
        "        for j in range(w_n):\n",
        "            mask_crop = mask[y:(y+height), x:(x+width)]\n",
        "            train_flooded_mask.append(mask_crop)\n",
        "            x+=width\n",
        "        y+=height\n",
        "train_flooded_mask = np.array(train_flooded_mask)"
      ]
    },
    {
      "cell_type": "code",
      "execution_count": null,
      "metadata": {
        "colab": {
          "background_save": true
        },
        "id": "KyaHDIIw5M9i"
      },
      "outputs": [],
      "source": [
        "test_img_path = os.getcwd()+ '/drive/MyDrive/Floodnet/test/test-org-img'"
      ]
    },
    {
      "cell_type": "code",
      "execution_count": null,
      "metadata": {
        "colab": {
          "background_save": true
        },
        "id": "Q7JWCzcF597B"
      },
      "outputs": [],
      "source": [
        "test_images = os.listdir(test_img_path)"
      ]
    },
    {
      "cell_type": "code",
      "execution_count": null,
      "metadata": {
        "colab": {
          "background_save": true
        },
        "id": "cRstklD16QL0"
      },
      "outputs": [],
      "source": [
        "test_flooded_images =[]\n",
        "for img_path in test_images:\n",
        "  img = cv2.imread(\"/\".join((test_img_path, img_path)),1)\n",
        "  img = img[0:img_height, 0:img_width,:]\n",
        "  img = cv2.resize(img, resize_dim)\n",
        "  i = 0\n",
        "  j = 0\n",
        "  y = 0\n",
        "\n",
        "  for i in range(h_n):\n",
        "        x=0\n",
        "        for j in range(w_n):\n",
        "            img_crop = img[y:(y+height), x:(x+width), :]\n",
        "            test_flooded_images.append(img_crop)\n",
        "            x+=width\n",
        "        y+=height\n",
        "test_flooded_images = np.array(test_flooded_images)\n"
      ]
    },
    {
      "cell_type": "code",
      "execution_count": null,
      "metadata": {
        "colab": {
          "background_save": true
        },
        "id": "qyxxu8B37a5Y"
      },
      "outputs": [],
      "source": [
        "test_mask_path = os.getcwd()+ '/drive/MyDrive/Floodnet/test/test-label-img'"
      ]
    },
    {
      "cell_type": "code",
      "execution_count": null,
      "metadata": {
        "colab": {
          "background_save": true
        },
        "id": "K5n9ri4T7rIh"
      },
      "outputs": [],
      "source": [
        "test_masks = os.listdir(test_mask_path)"
      ]
    },
    {
      "cell_type": "code",
      "execution_count": null,
      "metadata": {
        "colab": {
          "background_save": true
        },
        "id": "TFdArAYx72Qd"
      },
      "outputs": [],
      "source": [
        "test_flooded_mask=[]\n",
        "for mask_path in test_masks:\n",
        "  mask = cv2.imread(\"/\".join((test_mask_path, mask_path)),0)\n",
        "  mask = mask[0:img_height, 0:img_width]\n",
        "  mask = cv2.resize(mask, resize_dim)\n",
        "  i = 0\n",
        "  j = 0\n",
        "  y = 0\n",
        "\n",
        "  for i in range(h_n):\n",
        "        x=0\n",
        "        for j in range(w_n):\n",
        "            mask_crop = mask[y:(y+height), x:(x+width)]\n",
        "            test_flooded_mask.append(mask_crop)\n",
        "            x+=width\n",
        "        y+=height\n",
        "test_flooded_mask = np.array(test_flooded_mask)"
      ]
    },
    {
      "cell_type": "code",
      "execution_count": null,
      "metadata": {
        "colab": {
          "background_save": true
        },
        "id": "bstpp5VzNziv"
      },
      "outputs": [],
      "source": [
        "val_img_path = os.getcwd()+'/drive/MyDrive/Floodnet/val/val-org-img'"
      ]
    },
    {
      "cell_type": "code",
      "execution_count": null,
      "metadata": {
        "colab": {
          "background_save": true
        },
        "id": "c6p38WkXO_L2",
        "outputId": "f742b74c-9be2-421b-bff5-ffc19328f8e9"
      },
      "outputs": [
        {
          "ename": "SyntaxError",
          "evalue": "ignored",
          "output_type": "error",
          "traceback": [
            "\u001b[0;36m  File \u001b[0;32m\"<ipython-input-19-3598d3503256>\"\u001b[0;36m, line \u001b[0;32m1\u001b[0m\n\u001b[0;31m    val_images= = os.listdir(val_img_path)\u001b[0m\n\u001b[0m                ^\u001b[0m\n\u001b[0;31mSyntaxError\u001b[0m\u001b[0;31m:\u001b[0m invalid syntax\n"
          ]
        }
      ],
      "source": [
        "val_images= = os.listdir(val_img_path)"
      ]
    },
    {
      "cell_type": "code",
      "execution_count": null,
      "metadata": {
        "colab": {
          "background_save": true
        },
        "id": "K8ZvTjikPF4c"
      },
      "outputs": [],
      "source": [
        "val_flooded_images =[]\n",
        "for img_path in test_images:\n",
        "  img = cv2.imread(\"/\".join((val_img_path, img_path)),1)\n",
        "  img = img[0:img_height, 0:img_width,:]\n",
        "  img = cv2.resize(img, resize_dim)\n",
        "  i = 0\n",
        "  j = 0\n",
        "  y = 0\n",
        "\n",
        "  for i in range(h_n):\n",
        "        x=0\n",
        "        for j in range(w_n):\n",
        "            img_crop = img[y:(y+height), x:(x+width), :]\n",
        "            val_flooded_images.append(img_crop)\n",
        "            x+=width\n",
        "        y+=height\n",
        "val_flooded_images = np.array(val_flooded_images)\n"
      ]
    },
    {
      "cell_type": "code",
      "execution_count": null,
      "metadata": {
        "colab": {
          "background_save": true
        },
        "id": "yh0X83fPPOAg"
      },
      "outputs": [],
      "source": [
        "val_mask_dir = wd+ \"/drive/MyDrive/Floodnet/val/val-label-img\""
      ]
    },
    {
      "cell_type": "code",
      "execution_count": null,
      "metadata": {
        "colab": {
          "background_save": true
        },
        "id": "dXzs8f35RG-V"
      },
      "outputs": [],
      "source": [
        "val_flooded_mask = []\n",
        "mask_3= os.listdir(val_mask_dir)\n",
        "mask_3.sort()\n",
        "for mask_path in mask_2:\n",
        "  mask = cv2.imread(\"/\".join((test_mask_dir,mask_path)),0)\n",
        "  mask = mask[0:img_height,0:img_width]\n",
        "  mask = cv2.resize(mask, resize_dim)\n",
        "  i=0\n",
        "  j=0\n",
        "  y=0\n",
        "  for i in range(h_n):\n",
        "    x=0\n",
        "    for j in range(w_n):\n",
        "      mask_crop = mask[y:(y+height),x:(x+width)]\n",
        "      val_flooded_mask.append(mask_crop)\n",
        "      x+=width\n",
        "    y+=height\n",
        "val_flooded_mask = np.array(val_flooded_mask)"
      ]
    },
    {
      "cell_type": "code",
      "execution_count": null,
      "metadata": {
        "colab": {
          "background_save": true
        },
        "id": "ge5Q4rSqRM1U"
      },
      "outputs": [],
      "source": [
        "def prediction(model, image, patch_size):\n",
        "  segm_img = np.zeros(image.shape[:2])\n",
        "  patch_num=1\n",
        "  for i in range(0, image.shape[0],256):\n",
        "    for j in range(0, image.shape[1],256):\n",
        "      single_patch = image[i:i+patch_size, j:j+patch_size]\n",
        "      single_patch_norm = np.expand_dims(normalize(np.array(single_patch),axis=1),2)\n",
        "      single_patch_shape = single_patch_norm.shape[:2]\n",
        "      single_patch_input = np.expand_dims(single_patch_norm,0)\n",
        "      single_patch_prediction = (model.predict(single_patch_input)[0,:,:,0]>0.5).astype(np.uint8)\n",
        "      segm_img[i:i+single_patch_shape[0],j:j+single_patch_shape[1]] += cv2.resize(single_patch_prediction, single_patch_shape[::-1])\n",
        "\n",
        "      print(\"Finished Processing Patch Number\", patch_num, \"At Position\", i,j)\n",
        "\n",
        "      patch_num +=1 \n",
        "\n",
        "      return segm_img"
      ]
    },
    {
      "cell_type": "code",
      "execution_count": null,
      "metadata": {
        "colab": {
          "background_save": true
        },
        "id": "b_PvZmXkbviE"
      },
      "outputs": [],
      "source": [
        "print('Trainset Images:',train_flooded_images.shape)\n",
        "print('Trainset Masks:', train_flooded_mask.shape)\n",
        "print('Trainset Mask labels:', np.unique(train_flooded_mask))\n",
        "print('------------------------------------------------')\n",
        "print('Testset Images:',test_flooded_images.shape)\n",
        "print('Testset Masks:', test_flooded_mask.shape)\n",
        "print('Testset Mask labels:', np.unique(test_flooded_mask))\n",
        "print('------------------------------------------------')\n",
        "print('Validationset Images:',val_flooded_images.shape)\n",
        "print('Validationset Masks:', val_flooded_mask.shape)\n",
        "print('Validationset Mask labels:', np.unique(val_flooded_mask))"
      ]
    },
    {
      "cell_type": "code",
      "execution_count": null,
      "metadata": {
        "colab": {
          "background_save": true
        },
        "id": "O1D7bAHxadH1"
      },
      "outputs": [],
      "source": [
        "def get_model():\n",
        "    return simple_unet_model(256, 256, 3)"
      ]
    },
    {
      "cell_type": "code",
      "execution_count": null,
      "metadata": {
        "colab": {
          "background_save": true
        },
        "id": "dnXyE22RTzBQ"
      },
      "outputs": [],
      "source": [
        "Unet_untuned = get_model()"
      ]
    },
    {
      "cell_type": "code",
      "execution_count": null,
      "metadata": {
        "colab": {
          "background_save": true
        },
        "id": "gbA2fBEVW64y"
      },
      "outputs": [],
      "source": [
        "Unet_untuned.load_weights('/content/drive/MyDrive/model_untuned.hdf5')"
      ]
    },
    {
      "cell_type": "code",
      "execution_count": null,
      "metadata": {
        "colab": {
          "background_save": true
        },
        "id": "KKkS0VJDVDkh"
      },
      "outputs": [],
      "source": [
        "Unet_tuned = get_model()"
      ]
    },
    {
      "cell_type": "code",
      "execution_count": null,
      "metadata": {
        "colab": {
          "background_save": true
        },
        "id": "BJgsA64gXD2w"
      },
      "outputs": [],
      "source": [
        "Unet_tuned.load_weights('/content/drive/MyDrive/unet_tuned_model.hdf5')"
      ]
    },
    {
      "cell_type": "code",
      "execution_count": null,
      "metadata": {
        "colab": {
          "background_save": true
        },
        "id": "dCjm416Tar-W"
      },
      "outputs": [],
      "source": [
        "def evaluate_random_image(model, test_images, test_masks):\n",
        "    # choose a random test image\n",
        "    random_index = np.random.choice(len(test_images))\n",
        "    test_image = test_images[random_index]\n",
        "    \n",
        "    #predictions on the test image\n",
        "    test_image = np.expand_dims(test_image, axis=0)\n",
        "    predictions = model.predict(test_image)\n",
        "    \n",
        "    #predicted mask\n",
        "    class_id = predictions.argmax(axis=-1)\n",
        "\n",
        "    #ground truth \n",
        "    ground = test_masks[random_index]\n",
        "    ground = np.squeeze(ground)\n",
        "    # create a colormap for 10 classes\n",
        "    cmap = matplotlib.cm.get_cmap('tab10')\n",
        "    \n",
        "    # display the test image, predicted mask, ground truth\n",
        "    plt.figure(figsize=(15,5))\n",
        "    plt.subplot(1,2,1)\n",
        "    plt.imshow(test_image[0])\n",
        "    plt.title('Test Image')\n",
        "    plt.axis('off')\n",
        "\n",
        "    plt.subplot(1,2,2)\n",
        "    plt.imshow(class_id[0])\n",
        "    plt.title('Predicted Mask')\n",
        "    plt.axis('off')\n",
        "    print(class_id[0].shape)\n",
        "\n",
        "    plt.figure(figsize=(15,10))\n",
        "    plt.subplot(2,1,1)\n",
        "    plt.imshow(ground)\n",
        "    plt.title('Ground Truth')\n",
        "    plt.axis('off')\n",
        "    plt.show()\n",
        "    print(ground.shape)"
      ]
    },
    {
      "cell_type": "code",
      "execution_count": null,
      "metadata": {
        "colab": {
          "background_save": true
        },
        "id": "86Ncg3MJXW12"
      },
      "outputs": [],
      "source": [
        "# ### Applying Trained Models on Large Image \n",
        "# large_image = cv2.imread('/content/drive/MyDrive/Floodnet/train/train-org-img/10687_lab.png',0)"
      ]
    },
    {
      "cell_type": "code",
      "execution_count": null,
      "metadata": {
        "colab": {
          "background_save": true
        },
        "id": "GCqH1z-lXugc"
      },
      "outputs": [],
      "source": [
        "# large_image_norm = np.expand_dims(normalize(np.array(large_image),axis=1),2)"
      ]
    },
    {
      "cell_type": "code",
      "execution_count": null,
      "metadata": {
        "colab": {
          "background_save": true
        },
        "id": "w-VgO4HjX6dD"
      },
      "outputs": [],
      "source": [
        "# large_image_input = np.expand_dims(large_image_norm, 0)"
      ]
    },
    {
      "cell_type": "code",
      "execution_count": null,
      "metadata": {
        "colab": {
          "background_save": true
        },
        "id": "Q4Ck9erlYAOV"
      },
      "outputs": [],
      "source": [
        "# segmented_image = prediction(Unet_untuned,large_image,patch_size)\n",
        "\n",
        "# plt.figure(figsize=(10,8)\n",
        "# plt.subplot(1,2,1)\n",
        "# plt.title('Large Image')\n",
        "# plt.imshow(large_image)\n",
        "\n",
        "# plt.subplot(1,2,2)\n",
        "# plt.title('Prediction on Large Image')\n",
        "# plt.imshow(segmented_image)"
      ]
    }
  ],
  "metadata": {
    "accelerator": "TPU",
    "colab": {
      "machine_shape": "hm",
      "provenance": [],
      "mount_file_id": "1279ivVGcYHdygPwTQI3wthDScBsvJzUF",
      "authorship_tag": "ABX9TyO6PyTag3en5OPHg5ZHNJIj",
      "include_colab_link": true
    },
    "gpuClass": "standard",
    "kernelspec": {
      "display_name": "Python 3",
      "name": "python3"
    },
    "language_info": {
      "name": "python"
    }
  },
  "nbformat": 4,
  "nbformat_minor": 0
}